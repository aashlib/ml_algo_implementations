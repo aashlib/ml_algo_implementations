{
 "cells": [
  {
   "cell_type": "code",
   "execution_count": 43,
   "metadata": {},
   "outputs": [],
   "source": [
    "from sklearn import datasets\n",
    "from sklearn.model_selection import train_test_split\n",
    "import numpy as np\n",
    "from sklearn.metrics import accuracy_score\n",
    "from collections import Counter\n",
    "import import_ipynb\n",
    "from decision_tree import DecisionTree"
   ]
  },
  {
   "cell_type": "code",
   "execution_count": 44,
   "metadata": {},
   "outputs": [],
   "source": [
    "class RandomForestClassifier:\n",
    "    \n",
    "    def __init__(self,\n",
    "                 maxDepth = 10,\n",
    "                 minSamples = 2,\n",
    "                 numTrees = 10,\n",
    "                 numFeatures = 5\n",
    "                ):\n",
    "        \n",
    "        self.maxDepth = maxDepth\n",
    "        self.minSamples = minSamples\n",
    "        self.numTrees = numTrees\n",
    "        self.numFeatures = numFeatures\n",
    "        self.trees = []\n",
    "        \n",
    "    \n",
    "    def fit(self, X, y):\n",
    "        \n",
    "        #create numTrees number of decision trees\n",
    "        for i in range(self.numTrees):\n",
    "            dTree = DecisionTree(maxDepth = self.maxDepth,\n",
    "                                 minSamples = self.minSamples,\n",
    "                                 numFeatures = self.numFeatures #use a random subset of features at each node creation step\n",
    "                                )\n",
    "            \n",
    "            #for each tree, use a newly created bootstrapped dataset\n",
    "            sample = self.__bootstrap(X)\n",
    "            \n",
    "            dTree.fit(X[sample], y[sample])\n",
    "            self.trees.append(dTree)\n",
    "    \n",
    "    def predict(self, X):\n",
    "        #at prediction time, generate a prediction for each fitted tree. the final prediction for each observation represents the majority vote across all trees\n",
    "        predictions = np.swapaxes([tree.predict(X) for tree in self.trees], 0, 1)\n",
    "        return [Counter(p).most_common()[0][0] for p in predictions]\n",
    "           \n",
    "    \n",
    "    def __bootstrap(self, X):\n",
    "        #function to bootstrap dataset. samples from original dataset with replacement until len(sampled dataset) = len(orginal dataset)\n",
    "        return np.random.choice(X.shape[0], X.shape[0], replace=True)"
   ]
  },
  {
   "cell_type": "code",
   "execution_count": 45,
   "metadata": {},
   "outputs": [],
   "source": [
    "data = datasets.load_breast_cancer()\n",
    "X, y = data.data, data.target\n",
    "X_train, X_test, Y_train, Y_test = train_test_split(X, y, test_size = 0.2, random_state=123)"
   ]
  },
  {
   "cell_type": "code",
   "execution_count": 46,
   "metadata": {},
   "outputs": [],
   "source": [
    "model = RandomForestClassifier()\n",
    "model.fit(X_train, Y_train)"
   ]
  },
  {
   "cell_type": "code",
   "execution_count": 47,
   "metadata": {},
   "outputs": [],
   "source": [
    "predictions = model.predict(X_test)"
   ]
  },
  {
   "cell_type": "code",
   "execution_count": 48,
   "metadata": {},
   "outputs": [
    {
     "data": {
      "text/plain": [
       "0.9122807017543859"
      ]
     },
     "execution_count": 48,
     "metadata": {},
     "output_type": "execute_result"
    }
   ],
   "source": [
    "accuracy_score(Y_test, predictions)"
   ]
  },
  {
   "cell_type": "code",
   "execution_count": null,
   "metadata": {},
   "outputs": [],
   "source": []
  }
 ],
 "metadata": {
  "kernelspec": {
   "display_name": "Python 3",
   "language": "python",
   "name": "python3"
  },
  "language_info": {
   "codemirror_mode": {
    "name": "ipython",
    "version": 3
   },
   "file_extension": ".py",
   "mimetype": "text/x-python",
   "name": "python",
   "nbconvert_exporter": "python",
   "pygments_lexer": "ipython3",
   "version": "3.8.3"
  }
 },
 "nbformat": 4,
 "nbformat_minor": 4
}
