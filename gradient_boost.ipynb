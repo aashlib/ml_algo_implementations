{
 "cells": [
  {
   "cell_type": "code",
   "execution_count": 104,
   "metadata": {},
   "outputs": [],
   "source": [
    "import numpy as np\n",
    "from sklearn import datasets\n",
    "from sklearn.model_selection import train_test_split\n",
    "import matplotlib.pyplot as plt\n",
    "from sklearn.metrics import mean_squared_error\n",
    "import pandas as pd\n",
    "import import_ipynb\n",
    "from regression_tree import  RegressionTree"
   ]
  },
  {
   "cell_type": "code",
   "execution_count": 159,
   "metadata": {},
   "outputs": [],
   "source": [
    "class GradientBoostingRegressor:\n",
    "    \n",
    "    def __init__(self, numTrees=20, maxDepth=3, minSamples=2, learningRate = 0.5):\n",
    "        self.numTrees = numTrees\n",
    "        self.maxDepth = maxDepth\n",
    "        self.minSamples = minSamples\n",
    "        self.trees = []\n",
    "        self.learningRate = learningRate \n",
    "    \n",
    "    def fit(self, X, y):\n",
    "        \n",
    "        #first prediction is avg of y\n",
    "        currPrediction = np.mean(y)\n",
    "\n",
    "        for i in range(self.numTrees):\n",
    "            #calculate pseudoresiduals/errors (true value - prediction)\n",
    "            pseudoResiduals = y-currPrediction\n",
    "            #build regression tree to predict residuals\n",
    "            rTree = RegressionTree(maxDepth = self.maxDepth, minSamples = self.minSamples)\n",
    "            rTree.fit(X, pseudoResiduals)\n",
    "            self.trees.append(rTree)\n",
    "            #update prediction (sum of all trees' predictions) up to the current iteration. scale new tree prediction by a user-defined learning rate\n",
    "            currPrediction = currPrediction + self.learningRate * np.array(rTree.predict(X))\n",
    "            \n",
    "        \n",
    "    def predict(self, X):\n",
    "        #at prediction time, sum predictions from all trees for each observation\n",
    "        predictions = np.swapaxes([tree.predict(X) for tree in self.trees], 0, 1)\n",
    "        return [sum(p) for p in predictions]\n"
   ]
  },
  {
   "cell_type": "code",
   "execution_count": 160,
   "metadata": {},
   "outputs": [],
   "source": [
    "X, y = datasets.make_regression(n_samples=500, noise=10, random_state=123, n_features=1)\n",
    "X_train, X_test, Y_train, Y_test = train_test_split(X, y, test_size = 0.2, random_state=123)"
   ]
  },
  {
   "cell_type": "code",
   "execution_count": 161,
   "metadata": {},
   "outputs": [],
   "source": [
    "model = GradientBoostingRegressor()\n",
    "model.fit(X_train,  Y_train)\n",
    "predictions = model.predict(X_test)"
   ]
  },
  {
   "cell_type": "code",
   "execution_count": 162,
   "metadata": {},
   "outputs": [
    {
     "data": {
      "text/plain": [
       "91.4559223785439"
      ]
     },
     "execution_count": 162,
     "metadata": {},
     "output_type": "execute_result"
    }
   ],
   "source": [
    "mean_squared_error(Y_test, predictions, squared=False)"
   ]
  },
  {
   "cell_type": "code",
   "execution_count": 163,
   "metadata": {},
   "outputs": [
    {
     "data": {
      "text/plain": [
       "<matplotlib.collections.PathCollection at 0x7fad79946670>"
      ]
     },
     "execution_count": 163,
     "metadata": {},
     "output_type": "execute_result"
    },
    {
     "data": {
      "image/png": "[encoded data removed]",
      "text/plain": [
       "<Figure size 720x432 with 1 Axes>"
      ]
     },
     "metadata": {
      "needs_background": "light"
     },
     "output_type": "display_data"
    }
   ],
   "source": [
    "fig = plt.figure(figsize=(10,6))\n",
    "plt.scatter(X_test, Y_test, color='green')\n",
    "plt.scatter(X_test, predictions, color='black', linewidth=1)"
   ]
  },
  {
   "cell_type": "code",
   "execution_count": null,
   "metadata": {},
   "outputs": [],
   "source": []
  }
 ],
 "metadata": {
  "kernelspec": {
   "display_name": "Python 3",
   "language": "python",
   "name": "python3"
  },
  "language_info": {
   "codemirror_mode": {
    "name": "ipython",
    "version": 3
   },
   "file_extension": ".py",
   "mimetype": "text/x-python",
   "name": "python",
   "nbconvert_exporter": "python",
   "pygments_lexer": "ipython3",
   "version": "3.8.3"
  }
 },
 "nbformat": 4,
 "nbformat_minor": 4
}
