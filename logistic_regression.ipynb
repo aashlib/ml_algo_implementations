{
 "cells": [
  {
   "cell_type": "code",
   "execution_count": 158,
   "metadata": {},
   "outputs": [],
   "source": [
    "from sklearn import datasets\n",
    "from sklearn.model_selection import train_test_split\n",
    "import numpy as np\n",
    "from sklearn.metrics import accuracy_score"
   ]
  },
  {
   "cell_type": "code",
   "execution_count": 153,
   "metadata": {},
   "outputs": [],
   "source": [
    "class LogisticRegression:\n",
    "    \n",
    "    def __init__(self, learningRate = 0.01, nIters = 1000):\n",
    "        self.learningRate = learningRate \n",
    "        self.nIters = nIters\n",
    "        self.slopes = None\n",
    "        self.intercept = None\n",
    "        self.threshold = 0.5\n",
    "        self.__getSigmoidFunc()\n",
    "    \n",
    "    def fit(self, X, y):\n",
    "        numSamples, numFeatures = X.shape\n",
    "        self.slopes = np.zeros(numFeatures)\n",
    "        self.intercept = 0\n",
    "        \n",
    "        for i in range(self.nIters):\n",
    "            #predict class probability using (1/1+e^(-mx+b))\n",
    "            predictions = self.__sigmoid(self. __linearPrediction(X))\n",
    "            \n",
    "            #run gradient descent using cross entropy loss as the cost function\n",
    "            dSlopes = np.dot(X.T, (predictions-y)) * 1/numSamples\n",
    "            dIntercept = sum(predictions-y) * 1/numSamples\n",
    "            \n",
    "            self.slopes = self.slopes - dSlopes * self.learningRate\n",
    "            self.intercept = self.intercept - dIntercept * self.learningRate\n",
    "    \n",
    "    def predict(self, X):\n",
    "        predictions = self.__sigmoid(self. __linearPrediction(X))\n",
    "        return np.where(predictions>=self.threshold, 1, 0)\n",
    "    \n",
    "    def __getSigmoidFunc(self):\n",
    "        sigmoid = lambda x: 1/(1+np.exp(-x))\n",
    "        self.__sigmoid = np.vectorize(sigmoid)\n",
    "    \n",
    "    def __linearPrediction(self, X):\n",
    "        return np.dot(X, model.slopes)+model.intercept\n"
   ]
  },
  {
   "cell_type": "code",
   "execution_count": 154,
   "metadata": {},
   "outputs": [],
   "source": [
    "data = datasets.load_breast_cancer()\n",
    "X, y = data.data, data.target"
   ]
  },
  {
   "cell_type": "code",
   "execution_count": 155,
   "metadata": {},
   "outputs": [],
   "source": [
    "X_train, X_test, Y_train, Y_test = train_test_split(X, y, test_size = 0.2, random_state=123)"
   ]
  },
  {
   "cell_type": "code",
   "execution_count": 156,
   "metadata": {},
   "outputs": [
    {
     "name": "stderr",
     "output_type": "stream",
     "text": [
      "<ipython-input-153-02b1efd330c4>:32: RuntimeWarning: overflow encountered in exp\n",
      "  sigmoid = lambda x: 1/(1+np.exp(-x))\n"
     ]
    }
   ],
   "source": [
    "model = LogisticRegression()\n",
    "model.fit(X_train, Y_train)\n",
    "predictions = model.predict(X_test)"
   ]
  },
  {
   "cell_type": "code",
   "execution_count": 157,
   "metadata": {},
   "outputs": [
    {
     "data": {
      "text/plain": [
       "0.9298245614035088"
      ]
     },
     "execution_count": 157,
     "metadata": {},
     "output_type": "execute_result"
    }
   ],
   "source": [
    "accuracy_score(Y_test, predictions)"
   ]
  },
  {
   "cell_type": "code",
   "execution_count": null,
   "metadata": {},
   "outputs": [],
   "source": []
  }
 ],
 "metadata": {
  "kernelspec": {
   "display_name": "Python 3",
   "language": "python",
   "name": "python3"
  },
  "language_info": {
   "codemirror_mode": {
    "name": "ipython",
    "version": 3
   },
   "file_extension": ".py",
   "mimetype": "text/x-python",
   "name": "python",
   "nbconvert_exporter": "python",
   "pygments_lexer": "ipython3",
   "version": "3.8.3"
  }
 },
 "nbformat": 4,
 "nbformat_minor": 4
}
