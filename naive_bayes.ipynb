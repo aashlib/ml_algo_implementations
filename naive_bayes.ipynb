{
 "cells": [
  {
   "cell_type": "code",
   "execution_count": 1,
   "metadata": {},
   "outputs": [],
   "source": [
    "from sklearn import datasets\n",
    "from sklearn.model_selection import train_test_split\n",
    "import numpy as np\n",
    "from sklearn.metrics import accuracy_score"
   ]
  },
  {
   "cell_type": "code",
   "execution_count": 174,
   "metadata": {},
   "outputs": [],
   "source": [
    "class GaussianNaiveBayes:\n",
    "\n",
    "    def fit(self, X, y):\n",
    "        \n",
    "        self.classes = np.unique(y)\n",
    "        self.means, self.var, self.priorP = [],[],[]\n",
    "        for i in self.classes:\n",
    "            classData = X[np.where(y==i)]\n",
    "            #for each class, calculate mean/variance for each feature to describe its distribution\n",
    "            self.means.append(np.mean(classData,axis=0))\n",
    "            self.var.append(np.var(classData,axis=0))\n",
    "            #calculate prior probabilities (initial guess) that a random observation will belong to each class p(Yi)\n",
    "            self.priorP.append(len(classData)/len(y))\n",
    "    \n",
    "    def predict(self, X):\n",
    "        return [self.__predict(x) for x in X]\n",
    "    \n",
    "    def __predict(self, x):\n",
    "        #class probability given x is p(Yi) * p(X1|Yi) * p(X2|Yi)... (posterior probabilities)\n",
    "        #to prevent underflow - we use log(pYi) + log(p(X1|Yi)) + log (p(X2|Yi))...\n",
    "        gaussianProbs = self.__getProbs(x)\n",
    "        self.postP = []\n",
    "        for i in range(len(self.classes)):\n",
    "            self.postP.append(np.log(self.priorP[i]) + sum(np.log(gaussianProbs[i])))\n",
    "        \n",
    "        #final prediction corresponds to the class with the highest likelihood\n",
    "        return np.argmax(self.postP)\n",
    "        \n",
    "    def __getProbs(self, x):\n",
    "        #function that returns for each class/feature, the likelihood that x falls in its fit distribution\n",
    "        var, means = np.array(model.var), np.array(model.means)\n",
    "        return (1 / np.sqrt(2*np.pi*var)) * np.exp(-(x-means)**2/(2*var))\n"
   ]
  },
  {
   "cell_type": "code",
   "execution_count": 175,
   "metadata": {},
   "outputs": [],
   "source": [
    "X, y = datasets.make_classification(n_samples = 1000, n_features=10, n_classes=2, random_state=123)\n",
    "X_train, X_test, Y_train, Y_test = train_test_split(X, y, test_size = 0.2, random_state=123)"
   ]
  },
  {
   "cell_type": "code",
   "execution_count": 176,
   "metadata": {},
   "outputs": [],
   "source": [
    "model = GaussianNaiveBayes()\n",
    "model.fit(X_train, Y_train)\n",
    "predictions = model.predict(X_test)"
   ]
  },
  {
   "cell_type": "code",
   "execution_count": 177,
   "metadata": {},
   "outputs": [
    {
     "data": {
      "text/plain": [
       "0.965"
      ]
     },
     "execution_count": 177,
     "metadata": {},
     "output_type": "execute_result"
    }
   ],
   "source": [
    "accuracy_score(Y_test, predictions)"
   ]
  },
  {
   "cell_type": "code",
   "execution_count": null,
   "metadata": {},
   "outputs": [],
   "source": []
  }
 ],
 "metadata": {
  "kernelspec": {
   "display_name": "Python 3",
   "language": "python",
   "name": "python3"
  },
  "language_info": {
   "codemirror_mode": {
    "name": "ipython",
    "version": 3
   },
   "file_extension": ".py",
   "mimetype": "text/x-python",
   "name": "python",
   "nbconvert_exporter": "python",
   "pygments_lexer": "ipython3",
   "version": "3.8.3"
  }
 },
 "nbformat": 4,
 "nbformat_minor": 4
}
