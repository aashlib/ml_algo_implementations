{
 "cells": [
  {
   "cell_type": "code",
   "execution_count": 53,
   "metadata": {},
   "outputs": [],
   "source": [
    "import numpy as np\n",
    "from sklearn import datasets\n",
    "from sklearn.model_selection import train_test_split\n",
    "import matplotlib.pyplot as plt\n",
    "from sklearn.metrics import mean_squared_error, mean_absolute_percentage_error\n",
    "import pandas as pd"
   ]
  },
  {
   "cell_type": "code",
   "execution_count": 17,
   "metadata": {},
   "outputs": [],
   "source": [
    "class Node:\n",
    "    def __init__(self,\n",
    "                 left = None,\n",
    "                 right = None,\n",
    "                 prediction = None,\n",
    "                 numSamples = None,\n",
    "                 featureSplit = None,\n",
    "                 threshold = None,\n",
    "                 samples = None\n",
    "                ):\n",
    "        \n",
    "        self.left = left\n",
    "        self.right = right  \n",
    "        self.prediction = prediction\n",
    "        self.featureSplit = featureSplit \n",
    "        self.threshold = threshold\n",
    "        self.samples = samples\n",
    "        \n",
    "class RegressionTree:\n",
    "    \n",
    "    def __init__(self, maxDepth = 10, minSamples = 2, numFeatures = None):\n",
    "        self.maxDepth = maxDepth\n",
    "        self.minSamples = minSamples\n",
    "        self.root = None\n",
    "        self.numFeatures = None\n",
    "    \n",
    "    def fit(self, X, y):\n",
    "        #recursively grows tree\n",
    "        self.numFeatures = X.shape[1] if not self.numFeatures else min(X.shape[1], self.numFeatures)\n",
    "        self.root = self.__growTree(X, y)\n",
    "        \n",
    "    def predict(self, X):\n",
    "        #traverses fit tree for every observation in prediction set\n",
    "        return [self.__traverseTree(x, self.root) for x in X]\n",
    "    \n",
    "    def __growTree(self, X, y, depth=0):\n",
    "\n",
    "        numSamples, totalNumFeatures = X.shape\n",
    "        \n",
    "        #check stopping criteria\n",
    "        if depth >= self.maxDepth or numSamples <= self.minSamples or len(set(y))==1:\n",
    "            return Node(prediction = np.mean(y), samples = X)\n",
    "        \n",
    "        #find best split\n",
    "        bestFeature, bestThreshold, SSR = self.__bestSplit(X, y, totalNumFeatures)\n",
    "        \n",
    "        #create child nodes based on best determined split\n",
    "        leftSplit, rightSplit = self.__split(X[:,bestFeature], bestThreshold)\n",
    "        \n",
    "        #continue growing tree\n",
    "        leftNode = self.__growTree(X[leftSplit], y[leftSplit], depth=depth+1)\n",
    "        rightNode = self.__growTree(X[rightSplit], y[rightSplit], depth=depth+1)\n",
    "    \n",
    "        return Node(left= leftNode,\n",
    "                    right=rightNode,\n",
    "                    featureSplit = bestFeature,\n",
    "                    threshold = bestThreshold,\n",
    "                    samples = X\n",
    "                   )\n",
    "\n",
    "    \n",
    "    def __bestSplit(self, X, y, totalNumFeatures):\n",
    "        \n",
    "        minSSR = None\n",
    "        \n",
    "        #iteratively run through all possible features, thresholds and find best split (smallest SSR)\n",
    "        for feature in self.__getFeatures(totalNumFeatures):\n",
    "            featureData = X[:, feature]\n",
    "            for threshold in self.__getThresholds(featureData):\n",
    "                #calculate prediction (average of y) and SSR for current feature, threshold\n",
    "                SSR = self.__getSplitSSR(y, featureData, threshold)\n",
    "                \n",
    "                #store feature, threshold that produces the smallest error\n",
    "                if not minSSR or SSR < minSSR:\n",
    "                    minSSR = SSR\n",
    "                    bestFeature, bestThreshold = feature, threshold\n",
    "        \n",
    "        return  bestFeature, bestThreshold, minSSR \n",
    "    \n",
    "    def __getFeatures(self, totalNumFeatures):\n",
    "        return np.random.choice(totalNumFeatures, self.numFeatures, replace=False)\n",
    "    \n",
    "    def __getThresholds(self, featureData):\n",
    "        #given a set of continuous values, determines possible thresholds to split values on (using midpoint of adjacent values)\n",
    "        allFeatureValues = np.sort(np.unique(featureData))\n",
    "        thresholds = []\n",
    "        for i in range(1, len(allFeatureValues)):\n",
    "            thresholds.append((allFeatureValues[i]+allFeatureValues[i-1])/2)\n",
    "        \n",
    "        return thresholds\n",
    "    \n",
    "    \n",
    "    def __getSplitSSR(self, y, featureData, threshold):        \n",
    "        #create children\n",
    "        leftNode, rightNode = self.__split(featureData, threshold)\n",
    "        \n",
    "        #caculate SSR\n",
    "        SSRLeft = self.__ssr(y[leftNode])\n",
    "        SSRRight = self.__ssr(y[rightNode])     \n",
    "        \n",
    "        return SSRLeft + SSRRight\n",
    "    \n",
    "    def __ssr(self, y):\n",
    "        prediction = np.mean(y)\n",
    "        return sum(np.square(y - prediction))\n",
    "        \n",
    "    def __split(self, featureData, threshold):\n",
    "        #splits observations based on a given feature and threshold\n",
    "        leftNode, rightNode = np.where(featureData <= threshold), np.where(featureData > threshold)\n",
    "        return leftNode, rightNode\n",
    "    \n",
    "    def __traverseTree(self, x, node):\n",
    "        #given an observation X, traverses through tree to determine its prediction\n",
    "        \n",
    "        if node.prediction is not None: #if node is a leaf node, return prediction. else continue running through tree\n",
    "            return node.prediction\n",
    "        \n",
    "        #given the feature and threshold that is used by the current node, evaluate whether to continue to the left/right of the node \n",
    "        elif x[node.featureSplit] <= node.threshold:\n",
    "            return self.__traverseTree(x, node.left)\n",
    "        \n",
    "        elif x[node.featureSplit] > node.threshold:\n",
    "            return self.__traverseTree(x, node.right)\n",
    "    "
   ]
  },
  {
   "cell_type": "code",
   "execution_count": 74,
   "metadata": {},
   "outputs": [],
   "source": [
    "X, y = datasets.make_regression(n_samples=500, noise=0, random_state=123, n_features=5)\n",
    "X_train, X_test, Y_train, Y_test = train_test_split(X, y, test_size = 0.2, random_state=123)"
   ]
  },
  {
   "cell_type": "code",
   "execution_count": 75,
   "metadata": {},
   "outputs": [],
   "source": [
    "model = RegressionTree()\n",
    "model.fit(X_train,  Y_train)\n",
    "predictions = model.predict(X_test)"
   ]
  },
  {
   "cell_type": "code",
   "execution_count": 80,
   "metadata": {},
   "outputs": [
    {
     "data": {
      "text/plain": [
       "52.517263847339976"
      ]
     },
     "execution_count": 80,
     "metadata": {},
     "output_type": "execute_result"
    }
   ],
   "source": [
    "mean_squared_error( Y_test, predictions, squared=False)"
   ]
  },
  {
   "cell_type": "code",
   "execution_count": 83,
   "metadata": {},
   "outputs": [],
   "source": [
    "# fig = plt.figure(figsize=(10,6))\n",
    "# plt.scatter(X_test[:,1], Y_test, color='green')\n",
    "# plt.scatter(X_test[:,1], predictions, color='black', linewidth=1)"
   ]
  },
  {
   "cell_type": "code",
   "execution_count": null,
   "metadata": {},
   "outputs": [],
   "source": []
  }
 ],
 "metadata": {
  "kernelspec": {
   "display_name": "Python 3",
   "language": "python",
   "name": "python3"
  },
  "language_info": {
   "codemirror_mode": {
    "name": "ipython",
    "version": 3
   },
   "file_extension": ".py",
   "mimetype": "text/x-python",
   "name": "python",
   "nbconvert_exporter": "python",
   "pygments_lexer": "ipython3",
   "version": "3.8.3"
  }
 },
 "nbformat": 4,
 "nbformat_minor": 4
}
