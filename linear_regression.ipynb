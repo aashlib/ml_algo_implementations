{
 "cells": [
  {
   "cell_type": "code",
   "execution_count": 830,
   "metadata": {},
   "outputs": [],
   "source": [
    "import numpy as np\n",
    "from sklearn import datasets\n",
    "from sklearn.model_selection import train_test_split\n",
    "import matplotlib.pyplot as plt\n",
    "from sklearn.metrics import mean_squared_error,mean_absolute_percentage_error\n",
    "from numpy import random\n",
    "from sklearn.preprocessing import StandardScaler,  MinMaxScaler\n",
    "from sklearn.linear_model import Ridge, Lasso, ElasticNet"
   ]
  },
  {
   "cell_type": "code",
   "execution_count": 831,
   "metadata": {},
   "outputs": [],
   "source": [
    "class LinearRegression:\n",
    "    \n",
    "    def __init__(self, learning_rate = 0.01, n_iters=1000, l1_penalty = None, l2_penalty = None):\n",
    "        self.learning_rate = learning_rate\n",
    "        self.n_iters = n_iters\n",
    "        self.l1_penalty = l1_penalty if l1_penalty else 0\n",
    "        self.l2_penalty = l2_penalty if l2_penalty else 0\n",
    "        self.slopes = None\n",
    "        self.intercept = None\n",
    "        \n",
    "    \n",
    "    def fit(self, X, y):\n",
    "        \n",
    "        numSamples, numFeatures = X.shape\n",
    "        #initialize params at zero. We have a param for each feature in the dataset and one for the intercept\n",
    "        self.slopes = np.zeros(numFeatures)\n",
    "        self.intercept = 0\n",
    "        \n",
    "        #run gradient descent until the maximum number of iterations is met (user-defined)\n",
    "        for i in range(self.n_iters):\n",
    "            #calculate the prediction for each observation using the current slopes/intercept\n",
    "            predictions = np.dot(X, self.slopes) + self.intercept\n",
    "            \n",
    "            #calculate the partial derivative (gradient) of the loss function (MSE) with respect to each parameter\n",
    "            #len(dSlope) = number of features\n",
    "            dSlope = np.dot(X.T,(predictions-y) ) * (1/numSamples)\n",
    "            #ridge (l2) penalty term. only applies if l2_penalty > 0\n",
    "            dSlope += (1/numSamples) * self.l2_penalty * self.slopes \n",
    "            #lasso (l1) penalty term. only applies if l1_penalty > 0\n",
    "            dSlope += np.sign(self.slopes)  * self.l1_penalty\n",
    "            \n",
    "            dIntercept = sum(predictions-y) * (1/numSamples)\n",
    "            \n",
    "            #update the parameters using the calculated gradients and user-defined learning rate\n",
    "            self.slopes = self.slopes - self.learning_rate * dSlope\n",
    "            self.intercept = self.intercept - self.learning_rate * dIntercept\n",
    "            \n",
    "    def predict(self, X):\n",
    "        return np.dot(X, self.slopes) + self.intercept\n",
    "        \n",
    "        "
   ]
  },
  {
   "cell_type": "code",
   "execution_count": 892,
   "metadata": {},
   "outputs": [],
   "source": [
    "numSamples = 1000\n",
    "X, y = datasets.make_regression(n_samples=numSamples, noise=10, random_state=123, n_features=1)\n",
    "#add random feature to test shrinkage\n",
    "X = np.hstack((X, np.atleast_2d(random.rand(numSamples)).T))\n",
    "#scale features\n",
    "scaler =  StandardScaler()\n",
    "X = scaler.fit_transform(X)\n",
    "\n",
    "X_train, X_test, Y_train, Y_test = train_test_split(X, y, test_size = 0.8, random_state=123)"
   ]
  },
  {
   "cell_type": "code",
   "execution_count": 911,
   "metadata": {},
   "outputs": [],
   "source": [
    "model = LinearRegression(l1_penalty=10, l2_penalty=50)\n",
    "model.fit(X_train,  Y_train)\n",
    "predictions = model.predict(X_test)"
   ]
  },
  {
   "cell_type": "code",
   "execution_count": 912,
   "metadata": {},
   "outputs": [
    {
     "data": {
      "text/plain": [
       "636.6423724062912"
      ]
     },
     "execution_count": 912,
     "metadata": {},
     "output_type": "execute_result"
    }
   ],
   "source": [
    "mean_squared_error(Y_test, predictions)"
   ]
  },
  {
   "cell_type": "code",
   "execution_count": 913,
   "metadata": {},
   "outputs": [
    {
     "data": {
      "text/plain": [
       "<matplotlib.collections.PathCollection at 0x7fe1b8807460>"
      ]
     },
     "execution_count": 913,
     "metadata": {},
     "output_type": "execute_result"
    },
    {
     "data": {
      "image/png": "[encoded data removed]",
      "text/plain": [
       "<Figure size 720x432 with 1 Axes>"
      ]
     },
     "metadata": {
      "needs_background": "light"
     },
     "output_type": "display_data"
    }
   ],
   "source": [
    "fig = plt.figure(figsize=(10,6))\n",
    "plt.scatter(X_test[:,0], Y_test, color='green')\n",
    "plt.scatter(X_test[:,0], predictions, color='black')"
   ]
  },
  {
   "cell_type": "code",
   "execution_count": null,
   "metadata": {},
   "outputs": [],
   "source": []
  }
 ],
 "metadata": {
  "kernelspec": {
   "display_name": "Python 3",
   "language": "python",
   "name": "python3"
  },
  "language_info": {
   "codemirror_mode": {
    "name": "ipython",
    "version": 3
   },
   "file_extension": ".py",
   "mimetype": "text/x-python",
   "name": "python",
   "nbconvert_exporter": "python",
   "pygments_lexer": "ipython3",
   "version": "3.8.3"
  }
 },
 "nbformat": 4,
 "nbformat_minor": 4
}
